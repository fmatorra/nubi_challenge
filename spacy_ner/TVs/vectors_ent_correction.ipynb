{
 "cells": [
  {
   "cell_type": "code",
   "execution_count": 1,
   "metadata": {},
   "outputs": [],
   "source": [
    "import pandas as pd\n",
    "from tqdm import tqdm"
   ]
  },
  {
   "cell_type": "code",
   "execution_count": 2,
   "metadata": {},
   "outputs": [],
   "source": [
    "#!python -m spacy download es_core_news_lg"
   ]
  },
  {
   "cell_type": "code",
   "execution_count": 3,
   "metadata": {},
   "outputs": [
    {
     "data": {
      "text/html": [
       "<div>\n",
       "<style scoped>\n",
       "    .dataframe tbody tr th:only-of-type {\n",
       "        vertical-align: middle;\n",
       "    }\n",
       "\n",
       "    .dataframe tbody tr th {\n",
       "        vertical-align: top;\n",
       "    }\n",
       "\n",
       "    .dataframe thead th {\n",
       "        text-align: right;\n",
       "    }\n",
       "</style>\n",
       "<table border=\"1\" class=\"dataframe\">\n",
       "  <thead>\n",
       "    <tr style=\"text-align: right;\">\n",
       "      <th></th>\n",
       "      <th>Unnamed: 0</th>\n",
       "      <th>Encrypted_Seller</th>\n",
       "      <th>Encrypted_Id</th>\n",
       "      <th>Title</th>\n",
       "      <th>marca</th>\n",
       "      <th>start</th>\n",
       "      <th>end</th>\n",
       "    </tr>\n",
       "  </thead>\n",
       "  <tbody>\n",
       "    <tr>\n",
       "      <th>0</th>\n",
       "      <td>0</td>\n",
       "      <td>b10532ee783f9545d7bddd8f9da20d2a8d1642a486caf5...</td>\n",
       "      <td>63c875becd6c78649539497bdd134c2c762f610b3616ae...</td>\n",
       "      <td>Smart Tv Noblex Di43x5100x Led Full Hd 43  220v</td>\n",
       "      <td>Noblex</td>\n",
       "      <td>9</td>\n",
       "      <td>15</td>\n",
       "    </tr>\n",
       "    <tr>\n",
       "      <th>1</th>\n",
       "      <td>1</td>\n",
       "      <td>aa4dd7ba40c80cf15a859c19f2500e328797e2251322d4...</td>\n",
       "      <td>490e4b75cfa66087c95b20fb6546e4dfdc952f7537a8e3...</td>\n",
       "      <td>Smart Tv Tcl L42s6500 Led Full Hd 42  220v</td>\n",
       "      <td>Tcl</td>\n",
       "      <td>9</td>\n",
       "      <td>12</td>\n",
       "    </tr>\n",
       "    <tr>\n",
       "      <th>2</th>\n",
       "      <td>2</td>\n",
       "      <td>e48526711c7cd386af46750540bf107acac9b5988b515a...</td>\n",
       "      <td>eab7301d49cd3bbe3bcd3c196da0d61713de45b44523c1...</td>\n",
       "      <td>Tv Samsung Smart Tv Hd 32 Para Repuestos</td>\n",
       "      <td>Samsung</td>\n",
       "      <td>3</td>\n",
       "      <td>10</td>\n",
       "    </tr>\n",
       "    <tr>\n",
       "      <th>3</th>\n",
       "      <td>3</td>\n",
       "      <td>9e527f7876123f50719291aed05c8351bab1ae9abacadb...</td>\n",
       "      <td>daf900de69964f2cf241ed5395ac74edd1f2deb6577356...</td>\n",
       "      <td>Tv Led Samsung 46 Smart Pantalla Rota</td>\n",
       "      <td>Samsung</td>\n",
       "      <td>7</td>\n",
       "      <td>14</td>\n",
       "    </tr>\n",
       "    <tr>\n",
       "      <th>4</th>\n",
       "      <td>4</td>\n",
       "      <td>cf3021aa458178431fa2f22daa52ee17f005d6728d9b35...</td>\n",
       "      <td>b244c68806fab7d7d523a3927a4eb6381610c40313e8bb...</td>\n",
       "      <td>Tv 29 Sanyo Vizon</td>\n",
       "      <td>Sanyo</td>\n",
       "      <td>6</td>\n",
       "      <td>11</td>\n",
       "    </tr>\n",
       "  </tbody>\n",
       "</table>\n",
       "</div>"
      ],
      "text/plain": [
       "   Unnamed: 0                                   Encrypted_Seller  \\\n",
       "0           0  b10532ee783f9545d7bddd8f9da20d2a8d1642a486caf5...   \n",
       "1           1  aa4dd7ba40c80cf15a859c19f2500e328797e2251322d4...   \n",
       "2           2  e48526711c7cd386af46750540bf107acac9b5988b515a...   \n",
       "3           3  9e527f7876123f50719291aed05c8351bab1ae9abacadb...   \n",
       "4           4  cf3021aa458178431fa2f22daa52ee17f005d6728d9b35...   \n",
       "\n",
       "                                        Encrypted_Id  \\\n",
       "0  63c875becd6c78649539497bdd134c2c762f610b3616ae...   \n",
       "1  490e4b75cfa66087c95b20fb6546e4dfdc952f7537a8e3...   \n",
       "2  eab7301d49cd3bbe3bcd3c196da0d61713de45b44523c1...   \n",
       "3  daf900de69964f2cf241ed5395ac74edd1f2deb6577356...   \n",
       "4  b244c68806fab7d7d523a3927a4eb6381610c40313e8bb...   \n",
       "\n",
       "                                             Title    marca start end  \n",
       "0  Smart Tv Noblex Di43x5100x Led Full Hd 43  220v   Noblex     9  15  \n",
       "1       Smart Tv Tcl L42s6500 Led Full Hd 42  220v      Tcl     9  12  \n",
       "2         Tv Samsung Smart Tv Hd 32 Para Repuestos  Samsung     3  10  \n",
       "3            Tv Led Samsung 46 Smart Pantalla Rota  Samsung     7  14  \n",
       "4                                Tv 29 Sanyo Vizon    Sanyo     6  11  "
      ]
     },
     "execution_count": 3,
     "metadata": {},
     "output_type": "execute_result"
    }
   ],
   "source": [
    "df = pd.read_csv('./final_bd_tv_ner_all.csv')\n",
    "df.head()"
   ]
  },
  {
   "cell_type": "code",
   "execution_count": 5,
   "metadata": {},
   "outputs": [
    {
     "data": {
      "text/html": [
       "<div>\n",
       "<style scoped>\n",
       "    .dataframe tbody tr th:only-of-type {\n",
       "        vertical-align: middle;\n",
       "    }\n",
       "\n",
       "    .dataframe tbody tr th {\n",
       "        vertical-align: top;\n",
       "    }\n",
       "\n",
       "    .dataframe thead th {\n",
       "        text-align: right;\n",
       "    }\n",
       "</style>\n",
       "<table border=\"1\" class=\"dataframe\">\n",
       "  <thead>\n",
       "    <tr style=\"text-align: right;\">\n",
       "      <th></th>\n",
       "      <th>marca</th>\n",
       "    </tr>\n",
       "  </thead>\n",
       "  <tbody>\n",
       "    <tr>\n",
       "      <th>0</th>\n",
       "      <td>Admiral</td>\n",
       "    </tr>\n",
       "    <tr>\n",
       "      <th>1</th>\n",
       "      <td>AOC</td>\n",
       "    </tr>\n",
       "    <tr>\n",
       "      <th>2</th>\n",
       "      <td>Audinac</td>\n",
       "    </tr>\n",
       "    <tr>\n",
       "      <th>3</th>\n",
       "      <td>Audiologic</td>\n",
       "    </tr>\n",
       "    <tr>\n",
       "      <th>4</th>\n",
       "      <td>BGH</td>\n",
       "    </tr>\n",
       "  </tbody>\n",
       "</table>\n",
       "</div>"
      ],
      "text/plain": [
       "        marca\n",
       "0     Admiral\n",
       "1         AOC\n",
       "2     Audinac\n",
       "3  Audiologic\n",
       "4         BGH"
      ]
     },
     "execution_count": 5,
     "metadata": {},
     "output_type": "execute_result"
    }
   ],
   "source": [
    "marcas = pd.read_csv('./tv_marcas_meli.csv')\n",
    "marcas.head()"
   ]
  },
  {
   "cell_type": "code",
   "execution_count": 6,
   "metadata": {},
   "outputs": [],
   "source": [
    "import spacy\n",
    "#from spacy import displacy\n",
    "\n",
    "nlp = spacy.load('es_core_news_lg', disable = ['tagger','ner'])"
   ]
  },
  {
   "cell_type": "code",
   "execution_count": 8,
   "metadata": {},
   "outputs": [],
   "source": [
    "#Vectores Marcas\n",
    "list_vec = marcas['marca'].to_list()\n",
    "marcas_vec = [nlp(x) for x in list_vec]"
   ]
  },
  {
   "cell_type": "code",
   "execution_count": 9,
   "metadata": {},
   "outputs": [],
   "source": [
    "# Vectores NER\n",
    "list_vec = df['marca'].to_list()\n",
    "ner_vec = [nlp(x) for x in list_vec]"
   ]
  },
  {
   "cell_type": "code",
   "execution_count": 10,
   "metadata": {},
   "outputs": [
    {
     "name": "stderr",
     "output_type": "stream",
     "text": [
      "/tmp/ipykernel_18442/1658257045.py:7: UserWarning: [W008] Evaluating Doc.similarity based on empty vectors.\n",
      "  similarity = marca.similarity(ner)\n"
     ]
    }
   ],
   "source": [
    "clean_ents = []\n",
    "\n",
    "for ner in ner_vec:\n",
    "    paso = 0\n",
    "    for marca in marcas_vec:\n",
    "        #print(\"Lista ruler: \", vec)\n",
    "        similarity = marca.similarity(ner)\n",
    "        #print(similarity)\n",
    "        #print(\"Lista ner: \", text1)\n",
    "        #print(\"........\")                                        \n",
    "        if similarity > 0.90:\n",
    "            #print(marca.text)\n",
    "            clean_ents.append(marca.text)\n",
    "            paso = 1\n",
    "            break\n",
    "    if paso == 0:\n",
    "        clean_ents.append(ner.text)    \n"
   ]
  },
  {
   "cell_type": "code",
   "execution_count": 11,
   "metadata": {},
   "outputs": [
    {
     "data": {
      "text/plain": [
       "Samsung     3348\n",
       "Philips     2402\n",
       "LG          1814\n",
       "##REV       1699\n",
       "Noblex      1134\n",
       "            ... \n",
       "Pilihps        1\n",
       "Hyndai         1\n",
       "E LG           1\n",
       "Lg55           1\n",
       "Servicio       1\n",
       "Length: 244, dtype: int64"
      ]
     },
     "execution_count": 11,
     "metadata": {},
     "output_type": "execute_result"
    }
   ],
   "source": [
    "pd.Series(clean_ents).value_counts()"
   ]
  },
  {
   "cell_type": "code",
   "execution_count": 12,
   "metadata": {},
   "outputs": [
    {
     "data": {
      "text/plain": [
       "Samsung     3348\n",
       "Philips     2402\n",
       "LG          1814\n",
       "##REV       1699\n",
       "Noblex      1133\n",
       "            ... \n",
       "Pilihps        1\n",
       "Hyndai         1\n",
       "E LG           1\n",
       "Lg55           1\n",
       "Servicio       1\n",
       "Length: 251, dtype: int64"
      ]
     },
     "execution_count": 12,
     "metadata": {},
     "output_type": "execute_result"
    }
   ],
   "source": [
    "pd.Series(list_vec).value_counts()"
   ]
  },
  {
   "cell_type": "markdown",
   "metadata": {},
   "source": [
    "# Fastext + Spacy\n",
    "# Por experiencia previa decido no hacerla..."
   ]
  },
  {
   "cell_type": "code",
   "execution_count": 75,
   "metadata": {},
   "outputs": [
    {
     "name": "stdout",
     "output_type": "stream",
     "text": [
      "\u001b[2K\u001b[38;5;2m✔ Successfully created model\u001b[0m\n",
      "3067it [00:00, 32252.47it/s]/fede/fastText-0.9.2/result/nubi_cel_vectors_300.vec\n",
      "\u001b[2K\u001b[38;5;2m✔ Loaded vectors from\n",
      "/home/fede/fastText-0.9.2/result/nubi_cel_vectors_300.vec\u001b[0m\n",
      "\u001b[38;5;2m✔ Sucessfully compiled vocab\u001b[0m\n",
      "3293 entries, 3067 vectors\n"
     ]
    }
   ],
   "source": [
    "#!python -m spacy init-model es '/home/fede/kaggle/desafio_ia_nlp_nubimetrics/spacy_ner/cel/models/cel_model_vec' --vectors-loc '/home/fede/fastText-0.9.2/result/nubi_cel_vectors_300.vec'"
   ]
  },
  {
   "cell_type": "markdown",
   "metadata": {},
   "source": [
    "# Fastext"
   ]
  },
  {
   "cell_type": "markdown",
   "metadata": {},
   "source": [
    "* %cd '/home/fede/fastText-0.9.2'\n",
    "* !pip install fastText\n",
    "* !./fasttext\n",
    "* !./fasttext skipgram -input ./training_data/nubi_tv.jsonl -output models/fasttext/nubi_tv_vectors_300 -dim 300"
   ]
  },
  {
   "cell_type": "code",
   "execution_count": 13,
   "metadata": {},
   "outputs": [],
   "source": [
    "import fasttext"
   ]
  },
  {
   "cell_type": "code",
   "execution_count": 14,
   "metadata": {},
   "outputs": [
    {
     "name": "stderr",
     "output_type": "stream",
     "text": [
      "Warning : `load_model` does not return WordVectorModel or SupervisedModel any more, but a `FastText` object which is very similar.\n"
     ]
    }
   ],
   "source": [
    "model = fasttext.load_model('./models/fasttext/nubi_tv_vectors_300.bin')"
   ]
  },
  {
   "cell_type": "code",
   "execution_count": 15,
   "metadata": {},
   "outputs": [
    {
     "data": {
      "text/plain": [
       "[(0.9969042539596558, 'Samsumg'),\n",
       " (0.9968076944351196, 'Samsung,'),\n",
       " (0.9966309666633606, 'Samnsung'),\n",
       " (0.9951133728027344, 'Samsung.'),\n",
       " (0.9925115704536438, 'Rack'),\n",
       " (0.9923394322395325, 'Una'),\n",
       " (0.9918062686920166, 'Garantía'),\n",
       " (0.9916898608207703, 'Curve'),\n",
       " (0.9915932416915894, 'Back'),\n",
       " (0.9915770292282104, 'Terrace')]"
      ]
     },
     "execution_count": 15,
     "metadata": {},
     "output_type": "execute_result"
    }
   ],
   "source": [
    "fast_m = model.get_nearest_neighbors('Samsum', k=10)\n",
    "fast_m"
   ]
  },
  {
   "cell_type": "markdown",
   "metadata": {},
   "source": [
    "## Decido entrenar un modelo con todos los datos."
   ]
  },
  {
   "cell_type": "code",
   "execution_count": 21,
   "metadata": {},
   "outputs": [
    {
     "name": "stderr",
     "output_type": "stream",
     "text": [
      "Warning : `load_model` does not return WordVectorModel or SupervisedModel any more, but a `FastText` object which is very similar.\n"
     ]
    }
   ],
   "source": [
    "model = fasttext.load_model('./models/fasttext/nubi_cel_tv_vectors_300.bin')"
   ]
  },
  {
   "cell_type": "code",
   "execution_count": 24,
   "metadata": {},
   "outputs": [
    {
     "data": {
      "text/plain": [
       "[(0.9888470768928528, 'Audiologic'),\n",
       " (0.9661963582038879, 'Picture'),\n",
       " (0.9626744985580444, 'Audio'),\n",
       " (0.9622519612312317, 'Audinac'),\n",
       " (0.9616380333900452, \"'\"),\n",
       " (0.9607887268066406, 'Stereo'),\n",
       " (0.9604459404945374, 'Firstline'),\n",
       " (0.9599198698997498, 'Audiovox'),\n",
       " (0.957794725894928, 'Multinorma'),\n",
       " (0.9495194554328918, 'Ranser')]"
      ]
     },
     "execution_count": 24,
     "metadata": {},
     "output_type": "execute_result"
    }
   ],
   "source": [
    "fast_m = model.get_nearest_neighbors('Audio logic', k=10)\n",
    "fast_m"
   ]
  },
  {
   "cell_type": "code",
   "execution_count": 25,
   "metadata": {},
   "outputs": [],
   "source": [
    "#Vectores Marcas\n",
    "marcas = marcas['marca'].to_list()\n",
    "ents = df['marca'].to_list()"
   ]
  },
  {
   "cell_type": "code",
   "execution_count": 26,
   "metadata": {},
   "outputs": [
    {
     "name": "stdout",
     "output_type": "stream",
     "text": [
      "1991\n"
     ]
    }
   ],
   "source": [
    "marc_ents = []\n",
    "count = 0\n",
    "for ent in ents:\n",
    "    paso = 0   \n",
    "    \n",
    "    marc = [x for x in marcas if ent.lower() in x.lower()]\n",
    "    \n",
    "    if marc:\n",
    "        marc_ents.append(marc[0])\n",
    "        paso = 1\n",
    "    else:\n",
    "        ent_neigs = model.get_nearest_neighbors(ent, k=10) \n",
    "        for ent_neig in ent_neigs:\n",
    "            if ent_neig[0] > 0.95:\n",
    "                marc_ = [x for x in marcas if ent_neig[1].lower() in x.lower()]            \n",
    "                if marc_:\n",
    "                    marc_ents.append(marc_[0])\n",
    "                    #print(ent_neig[1])\n",
    "                    paso = 1\n",
    "                    break            \n",
    "    if paso == 0:\n",
    "        marc_ents.append(ent)\n",
    "        count+=1\n",
    "print(count)"
   ]
  },
  {
   "cell_type": "code",
   "execution_count": 81,
   "metadata": {},
   "outputs": [],
   "source": [
    "# new_list = [x for x in marcas if \"Zte\".lower() in x.lower()]\n",
    "# new_list"
   ]
  },
  {
   "cell_type": "code",
   "execution_count": 27,
   "metadata": {},
   "outputs": [
    {
     "data": {
      "text/plain": [
       "Samsung      3368\n",
       "Philips      2680\n",
       "LG           1815\n",
       "##REV        1699\n",
       "Noblex       1137\n",
       "             ... \n",
       "Golpeó          1\n",
       "Orient          1\n",
       "Tiendaaps       1\n",
       "Kenmark         1\n",
       "Servicio        1\n",
       "Length: 170, dtype: int64"
      ]
     },
     "execution_count": 27,
     "metadata": {},
     "output_type": "execute_result"
    }
   ],
   "source": [
    "pd.Series(marc_ents).value_counts()"
   ]
  },
  {
   "cell_type": "code",
   "execution_count": 28,
   "metadata": {},
   "outputs": [
    {
     "data": {
      "text/plain": [
       "Samsung     3348\n",
       "Philips     2402\n",
       "LG          1814\n",
       "##REV       1699\n",
       "Noblex      1133\n",
       "            ... \n",
       "Pilihps        1\n",
       "Hyndai         1\n",
       "E LG           1\n",
       "Lg55           1\n",
       "Servicio       1\n",
       "Length: 251, dtype: int64"
      ]
     },
     "execution_count": 28,
     "metadata": {},
     "output_type": "execute_result"
    }
   ],
   "source": [
    "pd.Series(ents).value_counts()"
   ]
  },
  {
   "cell_type": "code",
   "execution_count": 29,
   "metadata": {},
   "outputs": [
    {
     "data": {
      "text/html": [
       "<div>\n",
       "<style scoped>\n",
       "    .dataframe tbody tr th:only-of-type {\n",
       "        vertical-align: middle;\n",
       "    }\n",
       "\n",
       "    .dataframe tbody tr th {\n",
       "        vertical-align: top;\n",
       "    }\n",
       "\n",
       "    .dataframe thead th {\n",
       "        text-align: right;\n",
       "    }\n",
       "</style>\n",
       "<table border=\"1\" class=\"dataframe\">\n",
       "  <thead>\n",
       "    <tr style=\"text-align: right;\">\n",
       "      <th></th>\n",
       "      <th>Unnamed: 0</th>\n",
       "      <th>Encrypted_Seller</th>\n",
       "      <th>Encrypted_Id</th>\n",
       "      <th>Title</th>\n",
       "      <th>marca</th>\n",
       "      <th>start</th>\n",
       "      <th>end</th>\n",
       "      <th>marcas_corregidas</th>\n",
       "    </tr>\n",
       "  </thead>\n",
       "  <tbody>\n",
       "    <tr>\n",
       "      <th>0</th>\n",
       "      <td>0</td>\n",
       "      <td>b10532ee783f9545d7bddd8f9da20d2a8d1642a486caf5...</td>\n",
       "      <td>63c875becd6c78649539497bdd134c2c762f610b3616ae...</td>\n",
       "      <td>Smart Tv Noblex Di43x5100x Led Full Hd 43  220v</td>\n",
       "      <td>Noblex</td>\n",
       "      <td>9</td>\n",
       "      <td>15</td>\n",
       "      <td>Noblex</td>\n",
       "    </tr>\n",
       "    <tr>\n",
       "      <th>1</th>\n",
       "      <td>1</td>\n",
       "      <td>aa4dd7ba40c80cf15a859c19f2500e328797e2251322d4...</td>\n",
       "      <td>490e4b75cfa66087c95b20fb6546e4dfdc952f7537a8e3...</td>\n",
       "      <td>Smart Tv Tcl L42s6500 Led Full Hd 42  220v</td>\n",
       "      <td>Tcl</td>\n",
       "      <td>9</td>\n",
       "      <td>12</td>\n",
       "      <td>TCL</td>\n",
       "    </tr>\n",
       "    <tr>\n",
       "      <th>2</th>\n",
       "      <td>2</td>\n",
       "      <td>e48526711c7cd386af46750540bf107acac9b5988b515a...</td>\n",
       "      <td>eab7301d49cd3bbe3bcd3c196da0d61713de45b44523c1...</td>\n",
       "      <td>Tv Samsung Smart Tv Hd 32 Para Repuestos</td>\n",
       "      <td>Samsung</td>\n",
       "      <td>3</td>\n",
       "      <td>10</td>\n",
       "      <td>Samsung</td>\n",
       "    </tr>\n",
       "    <tr>\n",
       "      <th>3</th>\n",
       "      <td>3</td>\n",
       "      <td>9e527f7876123f50719291aed05c8351bab1ae9abacadb...</td>\n",
       "      <td>daf900de69964f2cf241ed5395ac74edd1f2deb6577356...</td>\n",
       "      <td>Tv Led Samsung 46 Smart Pantalla Rota</td>\n",
       "      <td>Samsung</td>\n",
       "      <td>7</td>\n",
       "      <td>14</td>\n",
       "      <td>Samsung</td>\n",
       "    </tr>\n",
       "    <tr>\n",
       "      <th>4</th>\n",
       "      <td>4</td>\n",
       "      <td>cf3021aa458178431fa2f22daa52ee17f005d6728d9b35...</td>\n",
       "      <td>b244c68806fab7d7d523a3927a4eb6381610c40313e8bb...</td>\n",
       "      <td>Tv 29 Sanyo Vizon</td>\n",
       "      <td>Sanyo</td>\n",
       "      <td>6</td>\n",
       "      <td>11</td>\n",
       "      <td>Sanyo</td>\n",
       "    </tr>\n",
       "  </tbody>\n",
       "</table>\n",
       "</div>"
      ],
      "text/plain": [
       "   Unnamed: 0                                   Encrypted_Seller  \\\n",
       "0           0  b10532ee783f9545d7bddd8f9da20d2a8d1642a486caf5...   \n",
       "1           1  aa4dd7ba40c80cf15a859c19f2500e328797e2251322d4...   \n",
       "2           2  e48526711c7cd386af46750540bf107acac9b5988b515a...   \n",
       "3           3  9e527f7876123f50719291aed05c8351bab1ae9abacadb...   \n",
       "4           4  cf3021aa458178431fa2f22daa52ee17f005d6728d9b35...   \n",
       "\n",
       "                                        Encrypted_Id  \\\n",
       "0  63c875becd6c78649539497bdd134c2c762f610b3616ae...   \n",
       "1  490e4b75cfa66087c95b20fb6546e4dfdc952f7537a8e3...   \n",
       "2  eab7301d49cd3bbe3bcd3c196da0d61713de45b44523c1...   \n",
       "3  daf900de69964f2cf241ed5395ac74edd1f2deb6577356...   \n",
       "4  b244c68806fab7d7d523a3927a4eb6381610c40313e8bb...   \n",
       "\n",
       "                                             Title    marca start end  \\\n",
       "0  Smart Tv Noblex Di43x5100x Led Full Hd 43  220v   Noblex     9  15   \n",
       "1       Smart Tv Tcl L42s6500 Led Full Hd 42  220v      Tcl     9  12   \n",
       "2         Tv Samsung Smart Tv Hd 32 Para Repuestos  Samsung     3  10   \n",
       "3            Tv Led Samsung 46 Smart Pantalla Rota  Samsung     7  14   \n",
       "4                                Tv 29 Sanyo Vizon    Sanyo     6  11   \n",
       "\n",
       "  marcas_corregidas  \n",
       "0            Noblex  \n",
       "1               TCL  \n",
       "2           Samsung  \n",
       "3           Samsung  \n",
       "4             Sanyo  "
      ]
     },
     "execution_count": 29,
     "metadata": {},
     "output_type": "execute_result"
    }
   ],
   "source": [
    "df['marcas_corregidas'] = marc_ents\n",
    "df.head()"
   ]
  },
  {
   "cell_type": "code",
   "execution_count": 96,
   "metadata": {},
   "outputs": [],
   "source": [
    "df.to_csv(\"./tv_bd.csv\", index=False)"
   ]
  }
 ],
 "metadata": {
  "interpreter": {
   "hash": "cf769dbc00ec6bdf41808ab8de60aa5f678ce8c155defeccf902ca79f172f969"
  },
  "kernelspec": {
   "display_name": "Python 3.8.5 64-bit ('spacy_env': conda)",
   "language": "python",
   "name": "python3"
  },
  "language_info": {
   "codemirror_mode": {
    "name": "ipython",
    "version": 3
   },
   "file_extension": ".py",
   "mimetype": "text/x-python",
   "name": "python",
   "nbconvert_exporter": "python",
   "pygments_lexer": "ipython3",
   "version": "3.8.5"
  },
  "orig_nbformat": 4
 },
 "nbformat": 4,
 "nbformat_minor": 2
}
