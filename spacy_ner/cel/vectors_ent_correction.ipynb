{
 "cells": [
  {
   "cell_type": "code",
   "execution_count": 12,
   "metadata": {},
   "outputs": [],
   "source": [
    "import pandas as pd\n",
    "from tqdm import tqdm"
   ]
  },
  {
   "cell_type": "code",
   "execution_count": 13,
   "metadata": {},
   "outputs": [],
   "source": [
    "#!python -m spacy download es_core_news_lg"
   ]
  },
  {
   "cell_type": "code",
   "execution_count": 92,
   "metadata": {},
   "outputs": [
    {
     "data": {
      "text/html": [
       "<div>\n",
       "<style scoped>\n",
       "    .dataframe tbody tr th:only-of-type {\n",
       "        vertical-align: middle;\n",
       "    }\n",
       "\n",
       "    .dataframe tbody tr th {\n",
       "        vertical-align: top;\n",
       "    }\n",
       "\n",
       "    .dataframe thead th {\n",
       "        text-align: right;\n",
       "    }\n",
       "</style>\n",
       "<table border=\"1\" class=\"dataframe\">\n",
       "  <thead>\n",
       "    <tr style=\"text-align: right;\">\n",
       "      <th></th>\n",
       "      <th>Unnamed: 0</th>\n",
       "      <th>Encrypted_Seller</th>\n",
       "      <th>Encrypted_Id</th>\n",
       "      <th>Title</th>\n",
       "      <th>marca</th>\n",
       "      <th>start</th>\n",
       "      <th>end</th>\n",
       "    </tr>\n",
       "  </thead>\n",
       "  <tbody>\n",
       "    <tr>\n",
       "      <th>0</th>\n",
       "      <td>0</td>\n",
       "      <td>7a30f2b511ff323b31dc01de07736128b49d5ec4c50b01...</td>\n",
       "      <td>054dd4f1afba59722078d8a4af2f1b3742d767e836ace2...</td>\n",
       "      <td>Teléfono Nokia 1600</td>\n",
       "      <td>Nokia</td>\n",
       "      <td>9</td>\n",
       "      <td>14</td>\n",
       "    </tr>\n",
       "    <tr>\n",
       "      <th>1</th>\n",
       "      <td>1</td>\n",
       "      <td>f6fed6d5cf9a02286d81f9c842a3874511ff1d3d411a94...</td>\n",
       "      <td>6c6a089073a7ba0ba6897eb51b0a0b5dc50d8071edafef...</td>\n",
       "      <td>Celular Motorola G6</td>\n",
       "      <td>Motorola</td>\n",
       "      <td>8</td>\n",
       "      <td>16</td>\n",
       "    </tr>\n",
       "    <tr>\n",
       "      <th>2</th>\n",
       "      <td>2</td>\n",
       "      <td>eef17e4b9fa3ccc0232a39061e31e721f5ca6a7a44b786...</td>\n",
       "      <td>78364fc1d8574957fe3508ed687d862a0bbcf5e5136558...</td>\n",
       "      <td>iPhone 6 Plus 16gb</td>\n",
       "      <td>iPhone</td>\n",
       "      <td>0</td>\n",
       "      <td>6</td>\n",
       "    </tr>\n",
       "    <tr>\n",
       "      <th>3</th>\n",
       "      <td>3</td>\n",
       "      <td>2ab9d5c1ec1dc9cf166fd20e51a3e734ab5076a4e5c73d...</td>\n",
       "      <td>896a81cc2da0ecb382e3b519783a8ef2d9ee0ce3872ea3...</td>\n",
       "      <td>iPhone 8 64 Gb Space Gray</td>\n",
       "      <td>iPhone</td>\n",
       "      <td>1</td>\n",
       "      <td>7</td>\n",
       "    </tr>\n",
       "    <tr>\n",
       "      <th>4</th>\n",
       "      <td>4</td>\n",
       "      <td>0f9b41b18f3c3776dc9515e1eb2a8686d4b271341444bb...</td>\n",
       "      <td>e6733e9d8b3bd38642d841c4509b0a5d6b5545d9a75fab...</td>\n",
       "      <td>Huawei Mate 10 Lite</td>\n",
       "      <td>Huawei</td>\n",
       "      <td>0</td>\n",
       "      <td>6</td>\n",
       "    </tr>\n",
       "  </tbody>\n",
       "</table>\n",
       "</div>"
      ],
      "text/plain": [
       "   Unnamed: 0                                   Encrypted_Seller  \\\n",
       "0           0  7a30f2b511ff323b31dc01de07736128b49d5ec4c50b01...   \n",
       "1           1  f6fed6d5cf9a02286d81f9c842a3874511ff1d3d411a94...   \n",
       "2           2  eef17e4b9fa3ccc0232a39061e31e721f5ca6a7a44b786...   \n",
       "3           3  2ab9d5c1ec1dc9cf166fd20e51a3e734ab5076a4e5c73d...   \n",
       "4           4  0f9b41b18f3c3776dc9515e1eb2a8686d4b271341444bb...   \n",
       "\n",
       "                                        Encrypted_Id  \\\n",
       "0  054dd4f1afba59722078d8a4af2f1b3742d767e836ace2...   \n",
       "1  6c6a089073a7ba0ba6897eb51b0a0b5dc50d8071edafef...   \n",
       "2  78364fc1d8574957fe3508ed687d862a0bbcf5e5136558...   \n",
       "3  896a81cc2da0ecb382e3b519783a8ef2d9ee0ce3872ea3...   \n",
       "4  e6733e9d8b3bd38642d841c4509b0a5d6b5545d9a75fab...   \n",
       "\n",
       "                        Title     marca start end  \n",
       "0         Teléfono Nokia 1600     Nokia     9  14  \n",
       "1         Celular Motorola G6  Motorola     8  16  \n",
       "2          iPhone 6 Plus 16gb    iPhone     0   6  \n",
       "3   iPhone 8 64 Gb Space Gray    iPhone     1   7  \n",
       "4         Huawei Mate 10 Lite    Huawei     0   6  "
      ]
     },
     "execution_count": 92,
     "metadata": {},
     "output_type": "execute_result"
    }
   ],
   "source": [
    "df = pd.read_csv('./final_bd_cel_ner_all.csv')\n",
    "df.head()"
   ]
  },
  {
   "cell_type": "code",
   "execution_count": 77,
   "metadata": {},
   "outputs": [
    {
     "data": {
      "text/html": [
       "<div>\n",
       "<style scoped>\n",
       "    .dataframe tbody tr th:only-of-type {\n",
       "        vertical-align: middle;\n",
       "    }\n",
       "\n",
       "    .dataframe tbody tr th {\n",
       "        vertical-align: top;\n",
       "    }\n",
       "\n",
       "    .dataframe thead th {\n",
       "        text-align: right;\n",
       "    }\n",
       "</style>\n",
       "<table border=\"1\" class=\"dataframe\">\n",
       "  <thead>\n",
       "    <tr style=\"text-align: right;\">\n",
       "      <th></th>\n",
       "      <th>marca</th>\n",
       "    </tr>\n",
       "  </thead>\n",
       "  <tbody>\n",
       "    <tr>\n",
       "      <th>0</th>\n",
       "      <td>Acer</td>\n",
       "    </tr>\n",
       "    <tr>\n",
       "      <th>1</th>\n",
       "      <td>Alcatel</td>\n",
       "    </tr>\n",
       "    <tr>\n",
       "      <th>2</th>\n",
       "      <td>Apple</td>\n",
       "    </tr>\n",
       "    <tr>\n",
       "      <th>3</th>\n",
       "      <td>iPhone</td>\n",
       "    </tr>\n",
       "    <tr>\n",
       "      <th>4</th>\n",
       "      <td>BlackBerry</td>\n",
       "    </tr>\n",
       "  </tbody>\n",
       "</table>\n",
       "</div>"
      ],
      "text/plain": [
       "        marca\n",
       "0        Acer\n",
       "1     Alcatel\n",
       "2       Apple\n",
       "3      iPhone\n",
       "4  BlackBerry"
      ]
     },
     "execution_count": 77,
     "metadata": {},
     "output_type": "execute_result"
    }
   ],
   "source": [
    "marcas = pd.read_csv('./marcas_meli.csv')\n",
    "marcas.head()"
   ]
  },
  {
   "cell_type": "code",
   "execution_count": 26,
   "metadata": {},
   "outputs": [],
   "source": [
    "import spacy\n",
    "#from spacy import displacy\n",
    "\n",
    "nlp = spacy.load('es_core_news_lg', disable = ['tagger','ner'])"
   ]
  },
  {
   "cell_type": "code",
   "execution_count": 44,
   "metadata": {},
   "outputs": [],
   "source": [
    "#Vectores Marcas\n",
    "list_vec = marcas['marca'].to_list()\n",
    "marcas_vec = [nlp(x.lower()) for x in list_vec]"
   ]
  },
  {
   "cell_type": "code",
   "execution_count": 45,
   "metadata": {},
   "outputs": [],
   "source": [
    "# Vectores NER\n",
    "list_vec = df['marca'].to_list()\n",
    "ner_vec = [nlp(x.lower()) for x in list_vec]"
   ]
  },
  {
   "cell_type": "code",
   "execution_count": 46,
   "metadata": {},
   "outputs": [
    {
     "name": "stderr",
     "output_type": "stream",
     "text": [
      "/tmp/ipykernel_7011/1658257045.py:7: UserWarning: [W008] Evaluating Doc.similarity based on empty vectors.\n",
      "  similarity = marca.similarity(ner)\n"
     ]
    }
   ],
   "source": [
    "clean_ents = []\n",
    "\n",
    "for ner in ner_vec:\n",
    "    paso = 0\n",
    "    for marca in marcas_vec:\n",
    "        #print(\"Lista ruler: \", vec)\n",
    "        similarity = marca.similarity(ner)\n",
    "        #print(similarity)\n",
    "        #print(\"Lista ner: \", text1)\n",
    "        #print(\"........\")                                        \n",
    "        if similarity > 0.90:\n",
    "            #print(marca.text)\n",
    "            clean_ents.append(marca.text)\n",
    "            paso = 1\n",
    "            break\n",
    "    if paso == 0:\n",
    "        clean_ents.append(ner.text)    \n"
   ]
  },
  {
   "cell_type": "code",
   "execution_count": 47,
   "metadata": {},
   "outputs": [
    {
     "data": {
      "text/plain": [
       "iphone       29206\n",
       "samsung      20223\n",
       "##rev         7619\n",
       "motorola      7192\n",
       "xiaomi        4605\n",
       "             ...  \n",
       "s6edge           1\n",
       "samsungj6        1\n",
       "morotola         1\n",
       "carretel         1\n",
       "samguns          1\n",
       "Length: 313, dtype: int64"
      ]
     },
     "execution_count": 47,
     "metadata": {},
     "output_type": "execute_result"
    }
   ],
   "source": [
    "pd.Series(clean_ents).value_counts()"
   ]
  },
  {
   "cell_type": "code",
   "execution_count": 48,
   "metadata": {},
   "outputs": [
    {
     "data": {
      "text/plain": [
       "iPhone        29206\n",
       "Samsung       20219\n",
       "##REV          7619\n",
       "Motorola       7187\n",
       "Xiaomi         4604\n",
       "              ...  \n",
       "Venus             1\n",
       "Soni              1\n",
       "Samsungj6         1\n",
       "Retro             1\n",
       "Samsunga51        1\n",
       "Length: 322, dtype: int64"
      ]
     },
     "execution_count": 48,
     "metadata": {},
     "output_type": "execute_result"
    }
   ],
   "source": [
    "pd.Series(list_vec).value_counts()"
   ]
  },
  {
   "cell_type": "code",
   "execution_count": 50,
   "metadata": {},
   "outputs": [
    {
     "data": {
      "text/plain": [
       "0.21120255842624355"
      ]
     },
     "execution_count": 50,
     "metadata": {},
     "output_type": "execute_result"
    }
   ],
   "source": [
    "text = \"iPhone\"\n",
    "text1 = \"i phone\"\n",
    "text_nlp = nlp(text)\n",
    "text1_nlp = nlp(text1)\n",
    "text_nlp.similarity(text1_nlp)\n"
   ]
  },
  {
   "cell_type": "markdown",
   "metadata": {},
   "source": [
    "# Fastext + Spacy"
   ]
  },
  {
   "cell_type": "code",
   "execution_count": 75,
   "metadata": {},
   "outputs": [
    {
     "name": "stdout",
     "output_type": "stream",
     "text": [
      "\u001b[2K\u001b[38;5;2m✔ Successfully created model\u001b[0m\n",
      "3067it [00:00, 32252.47it/s]/fede/fastText-0.9.2/result/nubi_cel_vectors_300.vec\n",
      "\u001b[2K\u001b[38;5;2m✔ Loaded vectors from\n",
      "/home/fede/fastText-0.9.2/result/nubi_cel_vectors_300.vec\u001b[0m\n",
      "\u001b[38;5;2m✔ Sucessfully compiled vocab\u001b[0m\n",
      "3293 entries, 3067 vectors\n"
     ]
    }
   ],
   "source": [
    "!python -m spacy init-model es '/home/fede/kaggle/desafio_ia_nlp_nubimetrics/spacy_ner/cel/models/cel_model_vec' --vectors-loc '/home/fede/fastText-0.9.2/result/nubi_cel_vectors_300.vec'"
   ]
  },
  {
   "cell_type": "code",
   "execution_count": 98,
   "metadata": {},
   "outputs": [
    {
     "data": {
      "text/plain": [
       "0.6308446180436149"
      ]
     },
     "execution_count": 98,
     "metadata": {},
     "output_type": "execute_result"
    }
   ],
   "source": [
    "nlp_cel = spacy.load(\"./models/cel_model_vec\")\n",
    "doc1 = nlp_cel(\"iPhone\")\n",
    "doc2 = nlp_cel(\"!phone\")\n",
    "doc1.similarity(doc2)"
   ]
  },
  {
   "cell_type": "code",
   "execution_count": 92,
   "metadata": {},
   "outputs": [
    {
     "name": "stdout",
     "output_type": "stream",
     "text": [
      "Zte True 4.3635316 False\n"
     ]
    }
   ],
   "source": [
    "tokens = nlp_cel(\"Zte\")\n",
    "for token in tokens:\n",
    "    print(token.text, token.has_vector, token.vector_norm, token.is_oov)"
   ]
  },
  {
   "cell_type": "code",
   "execution_count": 80,
   "metadata": {},
   "outputs": [],
   "source": [
    "#Vectores Marcas\n",
    "list_vec = marcas['marca'].to_list()\n",
    "marcas_vec = [nlp_cel(x) for x in list_vec]"
   ]
  },
  {
   "cell_type": "code",
   "execution_count": 81,
   "metadata": {},
   "outputs": [],
   "source": [
    "# Vectores NER\n",
    "list_vec = df['marca'].to_list()\n",
    "ner_vec = [nlp_cel(x) for x in list_vec]"
   ]
  },
  {
   "cell_type": "code",
   "execution_count": 82,
   "metadata": {},
   "outputs": [
    {
     "name": "stderr",
     "output_type": "stream",
     "text": [
      "/tmp/ipykernel_7011/3257275729.py:7: UserWarning: [W008] Evaluating Doc.similarity based on empty vectors.\n",
      "  similarity = marca.similarity(ner)\n"
     ]
    }
   ],
   "source": [
    "clean_ents = []\n",
    "\n",
    "for ner in ner_vec:\n",
    "    paso = 0\n",
    "    for marca in marcas_vec:\n",
    "        #print(\"Lista ruler: \", vec)\n",
    "        similarity = marca.similarity(ner)\n",
    "        #print(similarity)\n",
    "        #print(\"Lista ner: \", text1)\n",
    "        #print(\"........\")                                        \n",
    "        if similarity > 0.90:\n",
    "            #print(marca.text)\n",
    "            clean_ents.append(marca.text)\n",
    "            paso = 1\n",
    "            break\n",
    "    if paso == 0:\n",
    "        clean_ents.append(ner.text)"
   ]
  },
  {
   "cell_type": "code",
   "execution_count": 83,
   "metadata": {},
   "outputs": [
    {
     "data": {
      "text/plain": [
       "iPhone         29206\n",
       "Samsung        20577\n",
       "Cubot           7657\n",
       "Motorola        7207\n",
       "Xiaomi          4698\n",
       "               ...  \n",
       "Smarthphone        1\n",
       "Asegura            1\n",
       "Poco               1\n",
       "Venus              1\n",
       "Samsunga51         1\n",
       "Length: 286, dtype: int64"
      ]
     },
     "execution_count": 83,
     "metadata": {},
     "output_type": "execute_result"
    }
   ],
   "source": [
    "pd.Series(clean_ents).value_counts()"
   ]
  },
  {
   "cell_type": "code",
   "execution_count": 84,
   "metadata": {},
   "outputs": [
    {
     "data": {
      "text/plain": [
       "iPhone        29206\n",
       "Samsung       20219\n",
       "##REV          7619\n",
       "Motorola       7187\n",
       "Xiaomi         4604\n",
       "              ...  \n",
       "Venus             1\n",
       "Soni              1\n",
       "Samsungj6         1\n",
       "Retro             1\n",
       "Samsunga51        1\n",
       "Length: 322, dtype: int64"
      ]
     },
     "execution_count": 84,
     "metadata": {},
     "output_type": "execute_result"
    }
   ],
   "source": [
    "pd.Series(list_vec).value_counts()"
   ]
  },
  {
   "cell_type": "code",
   "execution_count": 85,
   "metadata": {},
   "outputs": [
    {
     "name": "stdout",
     "output_type": "stream",
     "text": [
      "Acer True 2.216228506210208\n",
      "Alcatel True 3.550143019269944\n",
      "Apple True 3.567832890457819\n",
      "BlackBerry True 0\n",
      "Blackview True 4.050532550900071\n",
      "BLU True 0\n",
      "CAT True 0\n",
      "Cubot True 1.361171144053608\n",
      "Doogee True 2.5885041390662114\n",
      "Google True 4.270662552062786\n",
      "Huawei True 3.986888884382795\n",
      "Hyundai True 3.1045789197594047\n",
      "iPro True 0\n",
      "Kodak True 4.57556179218432\n",
      "Lenovo True 1.5968048777551884\n",
      "LG True 3.999491753310649\n",
      "Microsoft True 3.1962553611987463\n",
      "Motorola True 3.674751220021149\n",
      "Nokia True 3.295463415843772\n",
      "OnePlus True 0\n",
      "Quantum True 4.309247831419258\n",
      "Realme True 3.010249306661398\n",
      "Samsung True 3.8096327229586633\n",
      "Sansei True 2.9731038029406127\n",
      "Sky Devices True 2.6658457573403482\n",
      "Sony True 3.9778093341609235\n",
      "Sony Ericsson True 3.357867190182035\n",
      "TCL True 0\n",
      "Ulefone True 3.3164843880918116\n",
      "Umidigi True 2.0079448101882034\n",
      "Xiaomi True 3.6325875481544685\n",
      "ZTE True 0\n"
     ]
    }
   ],
   "source": [
    "for token in marcas_vec:\n",
    "    print(token.text, token.has_vector, token.vector_norm)"
   ]
  },
  {
   "cell_type": "markdown",
   "metadata": {},
   "source": [
    "# Fastext"
   ]
  },
  {
   "cell_type": "markdown",
   "metadata": {},
   "source": [
    "* %cd '/home/fede/fastText-0.9.2'\n",
    "* !pip install fastText\n",
    "* !./fasttext\n",
    "* !./fasttext skipgram -input ./training_data/nubi_cel.jsonl -output models/fasttext/nubi_cel_vectors_300 -dim 300"
   ]
  },
  {
   "cell_type": "code",
   "execution_count": 1,
   "metadata": {},
   "outputs": [],
   "source": [
    "import fasttext"
   ]
  },
  {
   "cell_type": "code",
   "execution_count": 98,
   "metadata": {},
   "outputs": [
    {
     "name": "stderr",
     "output_type": "stream",
     "text": [
      "Warning : `load_model` does not return WordVectorModel or SupervisedModel any more, but a `FastText` object which is very similar.\n"
     ]
    }
   ],
   "source": [
    "model = fasttext.load_model('./models/fasttext/nubi_cel_vectors_300.bin')"
   ]
  },
  {
   "cell_type": "code",
   "execution_count": 99,
   "metadata": {},
   "outputs": [
    {
     "data": {
      "text/plain": [
       "[(0.9964942932128906, 'Samsug'),\n",
       " (0.991128146648407, 'Samsun'),\n",
       " (0.9885378479957581, 'Samsumg'),\n",
       " (0.9852354526519775, 'Samsung,'),\n",
       " (0.9841498136520386, 'Samsung.'),\n",
       " (0.9749056100845337, 'Samsung'),\n",
       " (0.9736911058425903, 'Samaung'),\n",
       " (0.9712196588516235, 'Samgung'),\n",
       " (0.965300977230072, 'Sansung'),\n",
       " (0.9641319513320923, 'Samnsung')]"
      ]
     },
     "execution_count": 99,
     "metadata": {},
     "output_type": "execute_result"
    }
   ],
   "source": [
    "fast_m = model.get_nearest_neighbors('Samsum', k=10)\n",
    "fast_m"
   ]
  },
  {
   "cell_type": "code",
   "execution_count": 79,
   "metadata": {},
   "outputs": [],
   "source": [
    "#Vectores Marcas\n",
    "marcas = marcas['marca'].to_list()\n",
    "ents = df['marca'].to_list()"
   ]
  },
  {
   "cell_type": "code",
   "execution_count": 80,
   "metadata": {},
   "outputs": [
    {
     "name": "stdout",
     "output_type": "stream",
     "text": [
      "9210\n"
     ]
    }
   ],
   "source": [
    "marc_ents = []\n",
    "count = 0\n",
    "for ent in ents:\n",
    "    paso = 0   \n",
    "    \n",
    "    marc = [x for x in marcas if ent.lower() in x.lower()]\n",
    "    \n",
    "    if marc:\n",
    "        marc_ents.append(marc[0])\n",
    "        paso = 1\n",
    "    else:\n",
    "        ent_neigs = model.get_nearest_neighbors(ent, k=10) \n",
    "        for ent_neig in ent_neigs:\n",
    "            if ent_neig[0] > 0.95:\n",
    "                marc_ = [x for x in marcas if ent_neig[1].lower() in x.lower()]            \n",
    "                if marc_:\n",
    "                    marc_ents.append(marc_[0])\n",
    "                    #print(ent_neig[1])\n",
    "                    paso = 1\n",
    "                    break            \n",
    "    if paso == 0:\n",
    "        marc_ents.append(ent)\n",
    "        count+=1\n",
    "print(count)"
   ]
  },
  {
   "cell_type": "code",
   "execution_count": 81,
   "metadata": {},
   "outputs": [],
   "source": [
    "# new_list = [x for x in marcas if \"Zte\".lower() in x.lower()]\n",
    "# new_list"
   ]
  },
  {
   "cell_type": "code",
   "execution_count": 87,
   "metadata": {},
   "outputs": [
    {
     "data": {
      "text/plain": [
       "iPhone      29517\n",
       "Samsung     20617\n",
       "##REV        7619\n",
       "Motorola     7212\n",
       "Xiaomi       4621\n",
       "            ...  \n",
       "Motoc           1\n",
       "Mod             1\n",
       "I'phone         1\n",
       "Sonim           1\n",
       "Selfie          1\n",
       "Length: 234, dtype: int64"
      ]
     },
     "execution_count": 87,
     "metadata": {},
     "output_type": "execute_result"
    }
   ],
   "source": [
    "pd.Series(marc_ents).value_counts()"
   ]
  },
  {
   "cell_type": "code",
   "execution_count": 83,
   "metadata": {},
   "outputs": [
    {
     "data": {
      "text/plain": [
       "iPhone             29206\n",
       "Samsung            20219\n",
       "##REV               7619\n",
       "Motorola            7187\n",
       "Xiaomi              4604\n",
       "                   ...  \n",
       "Woo                    1\n",
       "Sm-a022mzklaro         1\n",
       "Celular.samsung        1\n",
       "Kyosera                1\n",
       "Selfie                 1\n",
       "Length: 322, dtype: int64"
      ]
     },
     "execution_count": 83,
     "metadata": {},
     "output_type": "execute_result"
    }
   ],
   "source": [
    "pd.Series(ents).value_counts()"
   ]
  },
  {
   "cell_type": "code",
   "execution_count": 95,
   "metadata": {},
   "outputs": [
    {
     "data": {
      "text/html": [
       "<div>\n",
       "<style scoped>\n",
       "    .dataframe tbody tr th:only-of-type {\n",
       "        vertical-align: middle;\n",
       "    }\n",
       "\n",
       "    .dataframe tbody tr th {\n",
       "        vertical-align: top;\n",
       "    }\n",
       "\n",
       "    .dataframe thead th {\n",
       "        text-align: right;\n",
       "    }\n",
       "</style>\n",
       "<table border=\"1\" class=\"dataframe\">\n",
       "  <thead>\n",
       "    <tr style=\"text-align: right;\">\n",
       "      <th></th>\n",
       "      <th>Unnamed: 0</th>\n",
       "      <th>Encrypted_Seller</th>\n",
       "      <th>Encrypted_Id</th>\n",
       "      <th>Title</th>\n",
       "      <th>marca</th>\n",
       "      <th>start</th>\n",
       "      <th>end</th>\n",
       "      <th>marcas_corregidas</th>\n",
       "    </tr>\n",
       "  </thead>\n",
       "  <tbody>\n",
       "    <tr>\n",
       "      <th>0</th>\n",
       "      <td>0</td>\n",
       "      <td>7a30f2b511ff323b31dc01de07736128b49d5ec4c50b01...</td>\n",
       "      <td>054dd4f1afba59722078d8a4af2f1b3742d767e836ace2...</td>\n",
       "      <td>Teléfono Nokia 1600</td>\n",
       "      <td>Nokia</td>\n",
       "      <td>9</td>\n",
       "      <td>14</td>\n",
       "      <td>Nokia</td>\n",
       "    </tr>\n",
       "    <tr>\n",
       "      <th>1</th>\n",
       "      <td>1</td>\n",
       "      <td>f6fed6d5cf9a02286d81f9c842a3874511ff1d3d411a94...</td>\n",
       "      <td>6c6a089073a7ba0ba6897eb51b0a0b5dc50d8071edafef...</td>\n",
       "      <td>Celular Motorola G6</td>\n",
       "      <td>Motorola</td>\n",
       "      <td>8</td>\n",
       "      <td>16</td>\n",
       "      <td>Motorola</td>\n",
       "    </tr>\n",
       "    <tr>\n",
       "      <th>2</th>\n",
       "      <td>2</td>\n",
       "      <td>eef17e4b9fa3ccc0232a39061e31e721f5ca6a7a44b786...</td>\n",
       "      <td>78364fc1d8574957fe3508ed687d862a0bbcf5e5136558...</td>\n",
       "      <td>iPhone 6 Plus 16gb</td>\n",
       "      <td>iPhone</td>\n",
       "      <td>0</td>\n",
       "      <td>6</td>\n",
       "      <td>Apple</td>\n",
       "    </tr>\n",
       "    <tr>\n",
       "      <th>3</th>\n",
       "      <td>3</td>\n",
       "      <td>2ab9d5c1ec1dc9cf166fd20e51a3e734ab5076a4e5c73d...</td>\n",
       "      <td>896a81cc2da0ecb382e3b519783a8ef2d9ee0ce3872ea3...</td>\n",
       "      <td>iPhone 8 64 Gb Space Gray</td>\n",
       "      <td>iPhone</td>\n",
       "      <td>1</td>\n",
       "      <td>7</td>\n",
       "      <td>Apple</td>\n",
       "    </tr>\n",
       "    <tr>\n",
       "      <th>4</th>\n",
       "      <td>4</td>\n",
       "      <td>0f9b41b18f3c3776dc9515e1eb2a8686d4b271341444bb...</td>\n",
       "      <td>e6733e9d8b3bd38642d841c4509b0a5d6b5545d9a75fab...</td>\n",
       "      <td>Huawei Mate 10 Lite</td>\n",
       "      <td>Huawei</td>\n",
       "      <td>0</td>\n",
       "      <td>6</td>\n",
       "      <td>Huawei</td>\n",
       "    </tr>\n",
       "  </tbody>\n",
       "</table>\n",
       "</div>"
      ],
      "text/plain": [
       "   Unnamed: 0                                   Encrypted_Seller  \\\n",
       "0           0  7a30f2b511ff323b31dc01de07736128b49d5ec4c50b01...   \n",
       "1           1  f6fed6d5cf9a02286d81f9c842a3874511ff1d3d411a94...   \n",
       "2           2  eef17e4b9fa3ccc0232a39061e31e721f5ca6a7a44b786...   \n",
       "3           3  2ab9d5c1ec1dc9cf166fd20e51a3e734ab5076a4e5c73d...   \n",
       "4           4  0f9b41b18f3c3776dc9515e1eb2a8686d4b271341444bb...   \n",
       "\n",
       "                                        Encrypted_Id  \\\n",
       "0  054dd4f1afba59722078d8a4af2f1b3742d767e836ace2...   \n",
       "1  6c6a089073a7ba0ba6897eb51b0a0b5dc50d8071edafef...   \n",
       "2  78364fc1d8574957fe3508ed687d862a0bbcf5e5136558...   \n",
       "3  896a81cc2da0ecb382e3b519783a8ef2d9ee0ce3872ea3...   \n",
       "4  e6733e9d8b3bd38642d841c4509b0a5d6b5545d9a75fab...   \n",
       "\n",
       "                        Title     marca start end marcas_corregidas  \n",
       "0         Teléfono Nokia 1600     Nokia     9  14             Nokia  \n",
       "1         Celular Motorola G6  Motorola     8  16          Motorola  \n",
       "2          iPhone 6 Plus 16gb    iPhone     0   6             Apple  \n",
       "3   iPhone 8 64 Gb Space Gray    iPhone     1   7             Apple  \n",
       "4         Huawei Mate 10 Lite    Huawei     0   6            Huawei  "
      ]
     },
     "execution_count": 95,
     "metadata": {},
     "output_type": "execute_result"
    }
   ],
   "source": [
    "df['marcas_corregidas'] = marc_ents\n",
    "df.loc[df['marcas_corregidas']=='iPhone', 'marcas_corregidas'] = 'Apple'\n",
    "df.head()"
   ]
  },
  {
   "cell_type": "code",
   "execution_count": 96,
   "metadata": {},
   "outputs": [],
   "source": [
    "df.to_csv(\"./cel_bd.csv\", index=False)"
   ]
  }
 ],
 "metadata": {
  "interpreter": {
   "hash": "cf769dbc00ec6bdf41808ab8de60aa5f678ce8c155defeccf902ca79f172f969"
  },
  "kernelspec": {
   "display_name": "Python 3.8.5 64-bit ('spacy_env': conda)",
   "language": "python",
   "name": "python3"
  },
  "language_info": {
   "codemirror_mode": {
    "name": "ipython",
    "version": 3
   },
   "file_extension": ".py",
   "mimetype": "text/x-python",
   "name": "python",
   "nbconvert_exporter": "python",
   "pygments_lexer": "ipython3",
   "version": "3.8.5"
  },
  "orig_nbformat": 4
 },
 "nbformat": 4,
 "nbformat_minor": 2
}
